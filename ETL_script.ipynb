{
 "cells": [
  {
   "cell_type": "code",
   "execution_count": null,
   "id": "549a84ef-1300-422d-a678-e584b1904c6a",
   "metadata": {},
   "outputs": [],
   "source": [
    "# Importing Pandas Library for accessing and ETL process."
   ]
  },
  {
   "cell_type": "code",
   "execution_count": 1,
   "id": "c665de46-07dc-494c-86e1-383b810c5fb2",
   "metadata": {},
   "outputs": [],
   "source": [
    "import pandas as pd"
   ]
  },
  {
   "cell_type": "code",
   "execution_count": null,
   "id": "28c3976e-3bbc-40e7-b393-c6bd157eca72",
   "metadata": {},
   "outputs": [],
   "source": [
    "# reading CSV file "
   ]
  },
  {
   "cell_type": "code",
   "execution_count": 2,
   "id": "9626dae1-2060-49b3-96a9-c932ff7a9c3a",
   "metadata": {},
   "outputs": [
    {
     "data": {
      "text/html": [
       "<div>\n",
       "<style scoped>\n",
       "    .dataframe tbody tr th:only-of-type {\n",
       "        vertical-align: middle;\n",
       "    }\n",
       "\n",
       "    .dataframe tbody tr th {\n",
       "        vertical-align: top;\n",
       "    }\n",
       "\n",
       "    .dataframe thead th {\n",
       "        text-align: right;\n",
       "    }\n",
       "</style>\n",
       "<table border=\"1\" class=\"dataframe\">\n",
       "  <thead>\n",
       "    <tr style=\"text-align: right;\">\n",
       "      <th></th>\n",
       "      <th>Name</th>\n",
       "      <th>Date of Birth</th>\n",
       "      <th>Gender</th>\n",
       "      <th>Marital Status</th>\n",
       "      <th>Phone Number</th>\n",
       "      <th>Email Address</th>\n",
       "      <th>Mailing Address</th>\n",
       "      <th>Language Preference</th>\n",
       "      <th>Geographical Location</th>\n",
       "      <th>Credit Score</th>\n",
       "      <th>...</th>\n",
       "      <th>Loan Amount</th>\n",
       "      <th>Loan Term</th>\n",
       "      <th>Interest Rate</th>\n",
       "      <th>Loan Purpose</th>\n",
       "      <th>EMI</th>\n",
       "      <th>IP Address</th>\n",
       "      <th>Geolocation</th>\n",
       "      <th>Repayment History</th>\n",
       "      <th>Days Left to Pay Current EMI</th>\n",
       "      <th>Delayed Payment</th>\n",
       "    </tr>\n",
       "  </thead>\n",
       "  <tbody>\n",
       "    <tr>\n",
       "      <th>0</th>\n",
       "      <td>Khushi Balan</td>\n",
       "      <td>19-02-1986</td>\n",
       "      <td>Male</td>\n",
       "      <td>Single</td>\n",
       "      <td>2169182416</td>\n",
       "      <td>xbhakta@example.com</td>\n",
       "      <td>29/74, Mander, Kulti 156906</td>\n",
       "      <td>Marathi</td>\n",
       "      <td>Danapur</td>\n",
       "      <td>491</td>\n",
       "      <td>...</td>\n",
       "      <td>34398</td>\n",
       "      <td>15</td>\n",
       "      <td>0.16</td>\n",
       "      <td>Medical Emergency</td>\n",
       "      <td>2545.36</td>\n",
       "      <td>10.65.217.95</td>\n",
       "      <td>-49.3275015, 58.067192</td>\n",
       "      <td>[{'Payment Date': datetime.date(2023, 5, 3), '...</td>\n",
       "      <td>2</td>\n",
       "      <td>No</td>\n",
       "    </tr>\n",
       "    <tr>\n",
       "      <th>1</th>\n",
       "      <td>Umang Chatterjee</td>\n",
       "      <td>13-08-1980</td>\n",
       "      <td>Male</td>\n",
       "      <td>Married</td>\n",
       "      <td>4521712306</td>\n",
       "      <td>ivaidya@example.org</td>\n",
       "      <td>73/885\\nSharma Marg\\nSolapur 386449</td>\n",
       "      <td>Malayalam</td>\n",
       "      <td>Bangalore</td>\n",
       "      <td>325</td>\n",
       "      <td>...</td>\n",
       "      <td>96856</td>\n",
       "      <td>9</td>\n",
       "      <td>0.20</td>\n",
       "      <td>Home Renovation</td>\n",
       "      <td>11678.35</td>\n",
       "      <td>192.168.179.132</td>\n",
       "      <td>14.951437, -136.491335</td>\n",
       "      <td>[{'Payment Date': datetime.date(2023, 5, 1), '...</td>\n",
       "      <td>4</td>\n",
       "      <td>Yes</td>\n",
       "    </tr>\n",
       "    <tr>\n",
       "      <th>2</th>\n",
       "      <td>Adira Dara</td>\n",
       "      <td>05-08-1995</td>\n",
       "      <td>Female</td>\n",
       "      <td>Widowed</td>\n",
       "      <td>4615155004</td>\n",
       "      <td>loyalvihaan@example.net</td>\n",
       "      <td>H.No. 468\\nRaval Zila\\nNanded 490253</td>\n",
       "      <td>Malayalam</td>\n",
       "      <td>Bijapur</td>\n",
       "      <td>624</td>\n",
       "      <td>...</td>\n",
       "      <td>91301</td>\n",
       "      <td>10</td>\n",
       "      <td>0.16</td>\n",
       "      <td>Home Renovation</td>\n",
       "      <td>9812.94</td>\n",
       "      <td>10.166.34.134</td>\n",
       "      <td>64.013123, 175.275587</td>\n",
       "      <td>[{'Payment Date': datetime.date(2023, 5, 7), '...</td>\n",
       "      <td>7</td>\n",
       "      <td>No</td>\n",
       "    </tr>\n",
       "    <tr>\n",
       "      <th>3</th>\n",
       "      <td>Anvi Saini</td>\n",
       "      <td>16-11-2001</td>\n",
       "      <td>Male</td>\n",
       "      <td>Married</td>\n",
       "      <td>914836846677</td>\n",
       "      <td>tgaba@example.org</td>\n",
       "      <td>04/25, Mandal Path, Guntakal 305639</td>\n",
       "      <td>Gujarati</td>\n",
       "      <td>Korba</td>\n",
       "      <td>346</td>\n",
       "      <td>...</td>\n",
       "      <td>78981</td>\n",
       "      <td>14</td>\n",
       "      <td>0.28</td>\n",
       "      <td>Education Fees</td>\n",
       "      <td>6678.01</td>\n",
       "      <td>10.107.161.197</td>\n",
       "      <td>-11.6130395, 37.595772</td>\n",
       "      <td>[{'Payment Date': datetime.date(2023, 5, 10), ...</td>\n",
       "      <td>7</td>\n",
       "      <td>Yes</td>\n",
       "    </tr>\n",
       "    <tr>\n",
       "      <th>4</th>\n",
       "      <td>Kartik Kade</td>\n",
       "      <td>09-07-1979</td>\n",
       "      <td>Male</td>\n",
       "      <td>Widowed</td>\n",
       "      <td>910186397558</td>\n",
       "      <td>sanakaur@example.net</td>\n",
       "      <td>55/13, Srivastava Path\\nRaipur-801775</td>\n",
       "      <td>Malayalam</td>\n",
       "      <td>Jorhat</td>\n",
       "      <td>321</td>\n",
       "      <td>...</td>\n",
       "      <td>89953</td>\n",
       "      <td>1</td>\n",
       "      <td>0.29</td>\n",
       "      <td>Wedding Expenses</td>\n",
       "      <td>92126.86</td>\n",
       "      <td>192.168.255.28</td>\n",
       "      <td>-71.7186905, 49.352990</td>\n",
       "      <td>[]</td>\n",
       "      <td>11</td>\n",
       "      <td>No</td>\n",
       "    </tr>\n",
       "  </tbody>\n",
       "</table>\n",
       "<p>5 rows × 21 columns</p>\n",
       "</div>"
      ],
      "text/plain": [
       "               Name Date of Birth  Gender Marital Status  Phone Number  \\\n",
       "0      Khushi Balan    19-02-1986    Male         Single    2169182416   \n",
       "1  Umang Chatterjee    13-08-1980    Male        Married    4521712306   \n",
       "2        Adira Dara    05-08-1995  Female        Widowed    4615155004   \n",
       "3        Anvi Saini    16-11-2001    Male        Married  914836846677   \n",
       "4       Kartik Kade    09-07-1979    Male        Widowed  910186397558   \n",
       "\n",
       "             Email Address                        Mailing Address  \\\n",
       "0      xbhakta@example.com            29/74, Mander, Kulti 156906   \n",
       "1      ivaidya@example.org    73/885\\nSharma Marg\\nSolapur 386449   \n",
       "2  loyalvihaan@example.net   H.No. 468\\nRaval Zila\\nNanded 490253   \n",
       "3        tgaba@example.org    04/25, Mandal Path, Guntakal 305639   \n",
       "4     sanakaur@example.net  55/13, Srivastava Path\\nRaipur-801775   \n",
       "\n",
       "  Language Preference Geographical Location  Credit Score  ... Loan Amount  \\\n",
       "0             Marathi               Danapur           491  ...       34398   \n",
       "1           Malayalam             Bangalore           325  ...       96856   \n",
       "2           Malayalam               Bijapur           624  ...       91301   \n",
       "3            Gujarati                 Korba           346  ...       78981   \n",
       "4           Malayalam                Jorhat           321  ...       89953   \n",
       "\n",
       "   Loan Term  Interest Rate       Loan Purpose       EMI       IP Address  \\\n",
       "0         15           0.16  Medical Emergency   2545.36     10.65.217.95   \n",
       "1          9           0.20    Home Renovation  11678.35  192.168.179.132   \n",
       "2         10           0.16    Home Renovation   9812.94    10.166.34.134   \n",
       "3         14           0.28     Education Fees   6678.01   10.107.161.197   \n",
       "4          1           0.29   Wedding Expenses  92126.86   192.168.255.28   \n",
       "\n",
       "              Geolocation                                  Repayment History  \\\n",
       "0  -49.3275015, 58.067192  [{'Payment Date': datetime.date(2023, 5, 3), '...   \n",
       "1  14.951437, -136.491335  [{'Payment Date': datetime.date(2023, 5, 1), '...   \n",
       "2   64.013123, 175.275587  [{'Payment Date': datetime.date(2023, 5, 7), '...   \n",
       "3  -11.6130395, 37.595772  [{'Payment Date': datetime.date(2023, 5, 10), ...   \n",
       "4  -71.7186905, 49.352990                                                 []   \n",
       "\n",
       "  Days Left to Pay Current EMI  Delayed Payment  \n",
       "0                            2               No  \n",
       "1                            4              Yes  \n",
       "2                            7               No  \n",
       "3                            7              Yes  \n",
       "4                           11               No  \n",
       "\n",
       "[5 rows x 21 columns]"
      ]
     },
     "execution_count": 2,
     "metadata": {},
     "output_type": "execute_result"
    }
   ],
   "source": [
    "df = pd.read_csv('Borrowers_data.csv')\n",
    "\n",
    "df.head()"
   ]
  },
  {
   "cell_type": "code",
   "execution_count": null,
   "id": "ee50c244-a54a-4ebe-9ca4-8795cc70e9d9",
   "metadata": {},
   "outputs": [],
   "source": [
    "#3. Data Cleaning \n",
    "#I. Drop Unnecessary columns\n",
    "#II.Check for missing values\n",
    "#III. Handle Data types"
   ]
  },
  {
   "cell_type": "code",
   "execution_count": 3,
   "id": "14208745-2ed4-49d1-b93a-4cc401c3b3c7",
   "metadata": {},
   "outputs": [
    {
     "data": {
      "text/plain": [
       "Name                            0\n",
       "Date of Birth                   0\n",
       "Gender                          0\n",
       "Marital Status                  0\n",
       "Phone Number                    0\n",
       "Email Address                   0\n",
       "Mailing Address                 0\n",
       "Language Preference             0\n",
       "Geographical Location           0\n",
       "Credit Score                    0\n",
       "Loan Type                       0\n",
       "Loan Amount                     0\n",
       "Loan Term                       0\n",
       "Interest Rate                   0\n",
       "Loan Purpose                    0\n",
       "EMI                             0\n",
       "IP Address                      0\n",
       "Geolocation                     0\n",
       "Repayment History               0\n",
       "Days Left to Pay Current EMI    0\n",
       "Delayed Payment                 0\n",
       "dtype: int64"
      ]
     },
     "execution_count": 3,
     "metadata": {},
     "output_type": "execute_result"
    }
   ],
   "source": [
    "df.isnull().sum()"
   ]
  },
  {
   "cell_type": "code",
   "execution_count": null,
   "id": "7783cf9d-f178-43fd-b7df-45675c3460af",
   "metadata": {},
   "outputs": [],
   "source": [
    "# Checking for data types"
   ]
  },
  {
   "cell_type": "code",
   "execution_count": 4,
   "id": "d2b7d01a-b865-4554-8424-a00d805bf212",
   "metadata": {},
   "outputs": [
    {
     "data": {
      "text/plain": [
       "Name                             object\n",
       "Date of Birth                    object\n",
       "Gender                           object\n",
       "Marital Status                   object\n",
       "Phone Number                      int64\n",
       "Email Address                    object\n",
       "Mailing Address                  object\n",
       "Language Preference              object\n",
       "Geographical Location            object\n",
       "Credit Score                      int64\n",
       "Loan Type                        object\n",
       "Loan Amount                       int64\n",
       "Loan Term                         int64\n",
       "Interest Rate                   float64\n",
       "Loan Purpose                     object\n",
       "EMI                             float64\n",
       "IP Address                       object\n",
       "Geolocation                      object\n",
       "Repayment History                object\n",
       "Days Left to Pay Current EMI      int64\n",
       "Delayed Payment                  object\n",
       "dtype: object"
      ]
     },
     "execution_count": 4,
     "metadata": {},
     "output_type": "execute_result"
    }
   ],
   "source": [
    "df.dtypes"
   ]
  },
  {
   "cell_type": "code",
   "execution_count": null,
   "id": "d2ae81ab-823d-4426-92bb-a1d39c7b7337",
   "metadata": {},
   "outputs": [],
   "source": [
    "#changing the data type of datetime and getting the year first then month and day."
   ]
  },
  {
   "cell_type": "code",
   "execution_count": 6,
   "id": "e08ba9b2-be36-42d3-b2e4-2a556949d928",
   "metadata": {},
   "outputs": [
    {
     "data": {
      "text/plain": [
       "<bound method NDFrame.head of                    Name Date of Birth  Gender Marital Status  Phone Number  \\\n",
       "0          Khushi Balan    1986-02-19    Male         Single    2169182416   \n",
       "1      Umang Chatterjee    1980-08-13    Male        Married    4521712306   \n",
       "2            Adira Dara    1995-08-05  Female        Widowed    4615155004   \n",
       "3            Anvi Saini    2001-11-16    Male        Married  914836846677   \n",
       "4           Kartik Kade    1979-07-09    Male        Widowed  910186397558   \n",
       "...                 ...           ...     ...            ...           ...   \n",
       "4995      Sahil Sridhar    1994-09-16  Female         Single    7610887949   \n",
       "4996     Shamik Mahajan    1977-06-13  Female        Married  915634902477   \n",
       "4997         Krish Brar    1958-10-18  Female       Divorced    4222469533   \n",
       "4998  Pranay Srinivasan    1969-07-17    Male         Single    7107609791   \n",
       "4999        Saanvi Kala    2006-03-15  Female       Divorced    7792576392   \n",
       "\n",
       "                Email Address                              Mailing Address  \\\n",
       "0         xbhakta@example.com                  29/74, Mander, Kulti 156906   \n",
       "1         ivaidya@example.org          73/885\\nSharma Marg\\nSolapur 386449   \n",
       "2     loyalvihaan@example.net         H.No. 468\\nRaval Zila\\nNanded 490253   \n",
       "3           tgaba@example.org          04/25, Mandal Path, Guntakal 305639   \n",
       "4        sanakaur@example.net        55/13, Srivastava Path\\nRaipur-801775   \n",
       "...                       ...                                          ...   \n",
       "4995    amiradyal@example.com  21/243, D’Alia Marg\\nKalyan-Dombivli-365173   \n",
       "4996   xchoudhary@example.net      78/75\\nSarin Street, Medininagar 780980   \n",
       "4997  jaggiishita@example.com  10, Deol Ganj, Surendranagar Dudhrej 811454   \n",
       "4998        jarya@example.net               73, Kohli Ganj\\nMathura-650422   \n",
       "4999    inaaya-45@example.net             75, Salvi Ganj, Hyderabad-170337   \n",
       "\n",
       "     Language Preference  Geographical Location  Credit Score  ...  \\\n",
       "0                Marathi                Danapur           491  ...   \n",
       "1              Malayalam              Bangalore           325  ...   \n",
       "2              Malayalam                Bijapur           624  ...   \n",
       "3               Gujarati                  Korba           346  ...   \n",
       "4              Malayalam                 Jorhat           321  ...   \n",
       "...                  ...                    ...           ...  ...   \n",
       "4995                Urdu                   Agra           710  ...   \n",
       "4996             English                  Arrah           349  ...   \n",
       "4997             Kannada               Ambattur           334  ...   \n",
       "4998               Tamil               Kottayam           685  ...   \n",
       "4999            Gujarati  Surendranagar Dudhrej           743  ...   \n",
       "\n",
       "     Loan Amount  Loan Term  Interest Rate       Loan Purpose       EMI  \\\n",
       "0          34398         15           0.16  Medical Emergency   2545.36   \n",
       "1          96856          9           0.20    Home Renovation  11678.35   \n",
       "2          91301         10           0.16    Home Renovation   9812.94   \n",
       "3          78981         14           0.28     Education Fees   6678.01   \n",
       "4          89953          1           0.29   Wedding Expenses  92126.86   \n",
       "...          ...        ...            ...                ...       ...   \n",
       "4995       67256          1           0.13  Medical Emergency  67984.61   \n",
       "4996       64185          1           0.23     Education Fees  65415.21   \n",
       "4997       57864          1           0.12     Education Fees  58442.64   \n",
       "4998       57964          8           0.11  Medical Emergency   7547.56   \n",
       "4999       26428          1           0.24  Medical Emergency  26956.56   \n",
       "\n",
       "           IP Address              Geolocation  \\\n",
       "0        10.65.217.95   -49.3275015, 58.067192   \n",
       "1     192.168.179.132   14.951437, -136.491335   \n",
       "2       10.166.34.134    64.013123, 175.275587   \n",
       "3      10.107.161.197   -11.6130395, 37.595772   \n",
       "4      192.168.255.28   -71.7186905, 49.352990   \n",
       "...               ...                      ...   \n",
       "4995     172.23.107.8     53.800558, 32.045929   \n",
       "4996   172.20.199.148   -67.424898, -30.896858   \n",
       "4997   192.168.88.105      54.933584, 2.857838   \n",
       "4998    172.31.132.78   -25.4826365, 49.763984   \n",
       "4999  192.168.198.148  -72.0377085, 176.091897   \n",
       "\n",
       "                                      Repayment History  \\\n",
       "0     [{'Payment Date': datetime.date(2023, 5, 3), '...   \n",
       "1     [{'Payment Date': datetime.date(2023, 5, 1), '...   \n",
       "2     [{'Payment Date': datetime.date(2023, 5, 7), '...   \n",
       "3     [{'Payment Date': datetime.date(2023, 5, 10), ...   \n",
       "4                                                    []   \n",
       "...                                                 ...   \n",
       "4995  [{'Payment Date': datetime.date(2023, 5, 28), ...   \n",
       "4996  [{'Payment Date': datetime.date(2023, 5, 19), ...   \n",
       "4997  [{'Payment Date': datetime.date(2023, 5, 3), '...   \n",
       "4998  [{'Payment Date': datetime.date(2023, 5, 21), ...   \n",
       "4999                                                 []   \n",
       "\n",
       "     Days Left to Pay Current EMI  Delayed Payment  \n",
       "0                               2               No  \n",
       "1                               4              Yes  \n",
       "2                               7               No  \n",
       "3                               7              Yes  \n",
       "4                              11               No  \n",
       "...                           ...              ...  \n",
       "4995                           11              Yes  \n",
       "4996                           11               No  \n",
       "4997                           15               No  \n",
       "4998                            6              Yes  \n",
       "4999                           13              Yes  \n",
       "\n",
       "[5000 rows x 21 columns]>"
      ]
     },
     "execution_count": 6,
     "metadata": {},
     "output_type": "execute_result"
    }
   ],
   "source": [
    "df['Date of Birth']=pd.to_datetime(df['Date of Birth'], yearfirst=True)\n",
    "\n",
    "df.head"
   ]
  },
  {
   "cell_type": "code",
   "execution_count": null,
   "id": "1e834c1e-cf45-4ed7-90f3-5982789e4286",
   "metadata": {},
   "outputs": [],
   "source": [
    "#changing the data type of all to string so that sql can read it all."
   ]
  },
  {
   "cell_type": "code",
   "execution_count": 7,
   "id": "6dbfdf65-fb67-485d-bb15-47968300ae81",
   "metadata": {},
   "outputs": [],
   "source": [
    "df = df.astype({'Phone Number':'string', 'Credit Score': 'string', 'Loan Amount': 'string','Loan Term':'string','Days Left to Pay Current EMI':'string','Interest Rate':'string','EMI': 'string', 'Name':'string', 'Gender':'string','Marital Status':'string', 'Email Address': 'string','Mailing Address': 'string','Language Preference': 'string','Geographical Location':'string','Credit Score':'string','Loan Type': 'string','Loan Amount': 'string','Loan Purpose': 'string','IP Address': 'string','Repayment History': 'string','Delayed Payment':'string','Geolocation':'string'})"
   ]
  },
  {
   "cell_type": "code",
   "execution_count": null,
   "id": "c0f225d6-d84f-4067-aa45-f0ca036b5b1c",
   "metadata": {},
   "outputs": [],
   "source": [
    "#checking if the data types has changed or not"
   ]
  },
  {
   "cell_type": "code",
   "execution_count": 8,
   "id": "c0ae9585-c518-4034-931f-0ef26a2ad30e",
   "metadata": {},
   "outputs": [
    {
     "data": {
      "text/plain": [
       "Name                            string[python]\n",
       "Date of Birth                   datetime64[ns]\n",
       "Gender                          string[python]\n",
       "Marital Status                  string[python]\n",
       "Phone Number                    string[python]\n",
       "Email Address                   string[python]\n",
       "Mailing Address                 string[python]\n",
       "Language Preference             string[python]\n",
       "Geographical Location           string[python]\n",
       "Credit Score                    string[python]\n",
       "Loan Type                       string[python]\n",
       "Loan Amount                     string[python]\n",
       "Loan Term                       string[python]\n",
       "Interest Rate                   string[python]\n",
       "Loan Purpose                    string[python]\n",
       "EMI                             string[python]\n",
       "IP Address                      string[python]\n",
       "Geolocation                     string[python]\n",
       "Repayment History               string[python]\n",
       "Days Left to Pay Current EMI    string[python]\n",
       "Delayed Payment                 string[python]\n",
       "dtype: object"
      ]
     },
     "execution_count": 8,
     "metadata": {},
     "output_type": "execute_result"
    }
   ],
   "source": [
    "df.dtypes"
   ]
  },
  {
   "cell_type": "code",
   "execution_count": null,
   "id": "6589216c-fe4e-49e0-bdd1-9796117c134c",
   "metadata": {},
   "outputs": [],
   "source": [
    "#4. DataFrame Export \n",
    "#I. Convert All Rows Into a List of Tuples"
   ]
  },
  {
   "cell_type": "code",
   "execution_count": null,
   "id": "6cd12c6e-60ad-44b4-898b-5a1f933ac117",
   "metadata": {},
   "outputs": [],
   "source": [
    "borrower = []\n",
    "for i in range(len(df)):\n",
    "    \n",
    "    x = tuple(df.iloc[i])\n",
    "    borrower.append (x)\n",
    "\n",
    "borrower"
   ]
  },
  {
   "cell_type": "code",
   "execution_count": null,
   "id": "d2434de4-7e42-42c6-99de-1665356ac384",
   "metadata": {},
   "outputs": [],
   "source": [
    "#save the list as a text file"
   ]
  },
  {
   "cell_type": "code",
   "execution_count": 10,
   "id": "69a5af10-4739-432f-8fb1-5612b20f2a75",
   "metadata": {},
   "outputs": [
    {
     "data": {
      "text/plain": [
       "<function TextIOWrapper.close()>"
      ]
     },
     "execution_count": 10,
     "metadata": {},
     "output_type": "execute_result"
    }
   ],
   "source": [
    "file = open('Lists.txt', 'w')\n",
    "\n",
    "for tuple in borrower:\n",
    "    file.write(str(tuple) + ',' + '\\n')\n",
    "\n",
    "file.close"
   ]
  },
  {
   "cell_type": "code",
   "execution_count": null,
   "id": "3614bd27-a4e6-42b0-b46f-b858e70e64c9",
   "metadata": {},
   "outputs": [],
   "source": []
  }
 ],
 "metadata": {
  "kernelspec": {
   "display_name": "Python 3 (ipykernel)",
   "language": "python",
   "name": "python3"
  },
  "language_info": {
   "codemirror_mode": {
    "name": "ipython",
    "version": 3
   },
   "file_extension": ".py",
   "mimetype": "text/x-python",
   "name": "python",
   "nbconvert_exporter": "python",
   "pygments_lexer": "ipython3",
   "version": "3.12.4"
  }
 },
 "nbformat": 4,
 "nbformat_minor": 5
}
